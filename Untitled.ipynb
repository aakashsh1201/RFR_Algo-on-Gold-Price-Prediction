{
 "cells": [
  {
   "cell_type": "code",
   "execution_count": 1,
   "id": "1bf3bc7d",
   "metadata": {},
   "outputs": [],
   "source": [
    "#IMPORTS\n",
    "\n",
    "import numpy as np\n",
    "import pandas as pd\n",
    "import sklearn\n",
    "import matplotlib.pyplot as plt\n",
    "import seaborn as sns\n",
    "from sklearn.model_selection import train_test_split\n",
    "from sklearn.ensemble import RandomForestRegressor\n",
    "from sklearn import metrics\n",
    "\n",
    "import warnings \n",
    "warnings.filterwarnings('ignore')"
   ]
  },
  {
   "cell_type": "code",
   "execution_count": 2,
   "id": "f8f56273",
   "metadata": {},
   "outputs": [],
   "source": [
    "df=pd.read_csv('gld_price_data.csv')"
   ]
  },
  {
   "cell_type": "code",
   "execution_count": 3,
   "id": "6d285833",
   "metadata": {},
   "outputs": [
    {
     "data": {
      "text/html": [
       "<div>\n",
       "<style scoped>\n",
       "    .dataframe tbody tr th:only-of-type {\n",
       "        vertical-align: middle;\n",
       "    }\n",
       "\n",
       "    .dataframe tbody tr th {\n",
       "        vertical-align: top;\n",
       "    }\n",
       "\n",
       "    .dataframe thead th {\n",
       "        text-align: right;\n",
       "    }\n",
       "</style>\n",
       "<table border=\"1\" class=\"dataframe\">\n",
       "  <thead>\n",
       "    <tr style=\"text-align: right;\">\n",
       "      <th></th>\n",
       "      <th>Date</th>\n",
       "      <th>SPX</th>\n",
       "      <th>GLD</th>\n",
       "      <th>USO</th>\n",
       "      <th>SLV</th>\n",
       "      <th>EUR/USD</th>\n",
       "    </tr>\n",
       "  </thead>\n",
       "  <tbody>\n",
       "    <tr>\n",
       "      <th>0</th>\n",
       "      <td>1/2/2008</td>\n",
       "      <td>1447.160034</td>\n",
       "      <td>84.860001</td>\n",
       "      <td>78.470001</td>\n",
       "      <td>15.180</td>\n",
       "      <td>1.471692</td>\n",
       "    </tr>\n",
       "    <tr>\n",
       "      <th>1</th>\n",
       "      <td>1/3/2008</td>\n",
       "      <td>1447.160034</td>\n",
       "      <td>85.570000</td>\n",
       "      <td>78.370003</td>\n",
       "      <td>15.285</td>\n",
       "      <td>1.474491</td>\n",
       "    </tr>\n",
       "    <tr>\n",
       "      <th>2</th>\n",
       "      <td>1/4/2008</td>\n",
       "      <td>1411.630005</td>\n",
       "      <td>85.129997</td>\n",
       "      <td>77.309998</td>\n",
       "      <td>15.167</td>\n",
       "      <td>1.475492</td>\n",
       "    </tr>\n",
       "    <tr>\n",
       "      <th>3</th>\n",
       "      <td>1/7/2008</td>\n",
       "      <td>1416.180054</td>\n",
       "      <td>84.769997</td>\n",
       "      <td>75.500000</td>\n",
       "      <td>15.053</td>\n",
       "      <td>1.468299</td>\n",
       "    </tr>\n",
       "    <tr>\n",
       "      <th>4</th>\n",
       "      <td>1/8/2008</td>\n",
       "      <td>1390.189941</td>\n",
       "      <td>86.779999</td>\n",
       "      <td>76.059998</td>\n",
       "      <td>15.590</td>\n",
       "      <td>1.557099</td>\n",
       "    </tr>\n",
       "  </tbody>\n",
       "</table>\n",
       "</div>"
      ],
      "text/plain": [
       "       Date          SPX        GLD        USO     SLV   EUR/USD\n",
       "0  1/2/2008  1447.160034  84.860001  78.470001  15.180  1.471692\n",
       "1  1/3/2008  1447.160034  85.570000  78.370003  15.285  1.474491\n",
       "2  1/4/2008  1411.630005  85.129997  77.309998  15.167  1.475492\n",
       "3  1/7/2008  1416.180054  84.769997  75.500000  15.053  1.468299\n",
       "4  1/8/2008  1390.189941  86.779999  76.059998  15.590  1.557099"
      ]
     },
     "execution_count": 3,
     "metadata": {},
     "output_type": "execute_result"
    }
   ],
   "source": [
    "df.head()"
   ]
  },
  {
   "cell_type": "code",
   "execution_count": 4,
   "id": "ad155b7a",
   "metadata": {},
   "outputs": [
    {
     "data": {
      "text/plain": [
       "(2290, 6)"
      ]
     },
     "execution_count": 4,
     "metadata": {},
     "output_type": "execute_result"
    }
   ],
   "source": [
    "df.shape"
   ]
  },
  {
   "cell_type": "code",
   "execution_count": 5,
   "id": "b1a7683b",
   "metadata": {},
   "outputs": [
    {
     "data": {
      "text/plain": [
       "Date       0\n",
       "SPX        0\n",
       "GLD        0\n",
       "USO        0\n",
       "SLV        0\n",
       "EUR/USD    0\n",
       "dtype: int64"
      ]
     },
     "execution_count": 5,
     "metadata": {},
     "output_type": "execute_result"
    }
   ],
   "source": [
    "df.isna().sum()"
   ]
  },
  {
   "cell_type": "code",
   "execution_count": 6,
   "id": "fff8385b",
   "metadata": {},
   "outputs": [
    {
     "name": "stdout",
     "output_type": "stream",
     "text": [
      "<class 'pandas.core.frame.DataFrame'>\n",
      "RangeIndex: 2290 entries, 0 to 2289\n",
      "Data columns (total 6 columns):\n",
      " #   Column   Non-Null Count  Dtype  \n",
      "---  ------   --------------  -----  \n",
      " 0   Date     2290 non-null   object \n",
      " 1   SPX      2290 non-null   float64\n",
      " 2   GLD      2290 non-null   float64\n",
      " 3   USO      2290 non-null   float64\n",
      " 4   SLV      2290 non-null   float64\n",
      " 5   EUR/USD  2290 non-null   float64\n",
      "dtypes: float64(5), object(1)\n",
      "memory usage: 107.5+ KB\n"
     ]
    }
   ],
   "source": [
    "df.info()"
   ]
  },
  {
   "cell_type": "code",
   "execution_count": 7,
   "id": "4e922d9a",
   "metadata": {},
   "outputs": [
    {
     "data": {
      "text/html": [
       "<div>\n",
       "<style scoped>\n",
       "    .dataframe tbody tr th:only-of-type {\n",
       "        vertical-align: middle;\n",
       "    }\n",
       "\n",
       "    .dataframe tbody tr th {\n",
       "        vertical-align: top;\n",
       "    }\n",
       "\n",
       "    .dataframe thead th {\n",
       "        text-align: right;\n",
       "    }\n",
       "</style>\n",
       "<table border=\"1\" class=\"dataframe\">\n",
       "  <thead>\n",
       "    <tr style=\"text-align: right;\">\n",
       "      <th></th>\n",
       "      <th>SPX</th>\n",
       "      <th>GLD</th>\n",
       "      <th>USO</th>\n",
       "      <th>SLV</th>\n",
       "      <th>EUR/USD</th>\n",
       "    </tr>\n",
       "  </thead>\n",
       "  <tbody>\n",
       "    <tr>\n",
       "      <th>count</th>\n",
       "      <td>2290.000000</td>\n",
       "      <td>2290.000000</td>\n",
       "      <td>2290.000000</td>\n",
       "      <td>2290.000000</td>\n",
       "      <td>2290.000000</td>\n",
       "    </tr>\n",
       "    <tr>\n",
       "      <th>mean</th>\n",
       "      <td>1654.315776</td>\n",
       "      <td>122.732875</td>\n",
       "      <td>31.842221</td>\n",
       "      <td>20.084997</td>\n",
       "      <td>1.283653</td>\n",
       "    </tr>\n",
       "    <tr>\n",
       "      <th>std</th>\n",
       "      <td>519.111540</td>\n",
       "      <td>23.283346</td>\n",
       "      <td>19.523517</td>\n",
       "      <td>7.092566</td>\n",
       "      <td>0.131547</td>\n",
       "    </tr>\n",
       "    <tr>\n",
       "      <th>min</th>\n",
       "      <td>676.530029</td>\n",
       "      <td>70.000000</td>\n",
       "      <td>7.960000</td>\n",
       "      <td>8.850000</td>\n",
       "      <td>1.039047</td>\n",
       "    </tr>\n",
       "    <tr>\n",
       "      <th>25%</th>\n",
       "      <td>1239.874969</td>\n",
       "      <td>109.725000</td>\n",
       "      <td>14.380000</td>\n",
       "      <td>15.570000</td>\n",
       "      <td>1.171313</td>\n",
       "    </tr>\n",
       "    <tr>\n",
       "      <th>50%</th>\n",
       "      <td>1551.434998</td>\n",
       "      <td>120.580002</td>\n",
       "      <td>33.869999</td>\n",
       "      <td>17.268500</td>\n",
       "      <td>1.303297</td>\n",
       "    </tr>\n",
       "    <tr>\n",
       "      <th>75%</th>\n",
       "      <td>2073.010070</td>\n",
       "      <td>132.840004</td>\n",
       "      <td>37.827501</td>\n",
       "      <td>22.882500</td>\n",
       "      <td>1.369971</td>\n",
       "    </tr>\n",
       "    <tr>\n",
       "      <th>max</th>\n",
       "      <td>2872.870117</td>\n",
       "      <td>184.589996</td>\n",
       "      <td>117.480003</td>\n",
       "      <td>47.259998</td>\n",
       "      <td>1.598798</td>\n",
       "    </tr>\n",
       "  </tbody>\n",
       "</table>\n",
       "</div>"
      ],
      "text/plain": [
       "               SPX          GLD          USO          SLV      EUR/USD\n",
       "count  2290.000000  2290.000000  2290.000000  2290.000000  2290.000000\n",
       "mean   1654.315776   122.732875    31.842221    20.084997     1.283653\n",
       "std     519.111540    23.283346    19.523517     7.092566     0.131547\n",
       "min     676.530029    70.000000     7.960000     8.850000     1.039047\n",
       "25%    1239.874969   109.725000    14.380000    15.570000     1.171313\n",
       "50%    1551.434998   120.580002    33.869999    17.268500     1.303297\n",
       "75%    2073.010070   132.840004    37.827501    22.882500     1.369971\n",
       "max    2872.870117   184.589996   117.480003    47.259998     1.598798"
      ]
     },
     "execution_count": 7,
     "metadata": {},
     "output_type": "execute_result"
    }
   ],
   "source": [
    "df.describe()"
   ]
  },
  {
   "cell_type": "code",
   "execution_count": 8,
   "id": "c231e49f",
   "metadata": {},
   "outputs": [],
   "source": [
    "correlation=df.corr()"
   ]
  },
  {
   "cell_type": "code",
   "execution_count": 9,
   "id": "f2fd101e",
   "metadata": {},
   "outputs": [
    {
     "data": {
      "text/plain": [
       "<AxesSubplot:>"
      ]
     },
     "execution_count": 9,
     "metadata": {},
     "output_type": "execute_result"
    },
    {
     "data": {
      "image/png": "[encoded data removed]",
      "text/plain": [
       "<Figure size 576x576 with 2 Axes>"
      ]
     },
     "metadata": {
      "needs_background": "light"
     },
     "output_type": "display_data"
    }
   ],
   "source": [
    "# constructing a heatmap to understand the correlatiom\n",
    "plt.figure(figsize = (8,8))\n",
    "sns.heatmap(correlation, cbar=True, square=True, fmt='.1f',annot=True, annot_kws={'size':8}, cmap='Blues');"
   ]
  },
  {
   "cell_type": "code",
   "execution_count": 10,
   "id": "04d761a0",
   "metadata": {},
   "outputs": [
    {
     "name": "stdout",
     "output_type": "stream",
     "text": [
      "SPX        0.049345\n",
      "GLD        1.000000\n",
      "USO       -0.186360\n",
      "SLV        0.866632\n",
      "EUR/USD   -0.024375\n",
      "Name: GLD, dtype: float64\n"
     ]
    }
   ],
   "source": [
    "print(correlation['GLD'])"
   ]
  },
  {
   "cell_type": "code",
   "execution_count": 11,
   "id": "bebf98bc",
   "metadata": {},
   "outputs": [
    {
     "data": {
      "image/png": "[encoded data removed]",
      "text/plain": [
       "<Figure size 432x288 with 1 Axes>"
      ]
     },
     "metadata": {
      "needs_background": "light"
     },
     "output_type": "display_data"
    }
   ],
   "source": [
    "sns.distplot(df['GLD'],color='Green');"
   ]
  },
  {
   "cell_type": "code",
   "execution_count": 12,
   "id": "15f2e30d",
   "metadata": {},
   "outputs": [],
   "source": [
    "#SPLITTING DATA\n",
    "X=df.drop(['Date','GLD'],axis=1)\n",
    "Y=df['GLD']"
   ]
  },
  {
   "cell_type": "code",
   "execution_count": 13,
   "id": "9f6beefe",
   "metadata": {},
   "outputs": [],
   "source": [
    "X_train,X_test,Y_train,Y_test = train_test_split(X,Y,test_size=0.2,random_state=2)"
   ]
  },
  {
   "cell_type": "code",
   "execution_count": 14,
   "id": "64bba90a",
   "metadata": {},
   "outputs": [],
   "source": [
    "model=RandomForestRegressor(n_estimators=100)"
   ]
  },
  {
   "cell_type": "code",
   "execution_count": 15,
   "id": "5a31926e",
   "metadata": {},
   "outputs": [
    {
     "data": {
      "text/plain": [
       "RandomForestRegressor()"
      ]
     },
     "execution_count": 15,
     "metadata": {},
     "output_type": "execute_result"
    }
   ],
   "source": [
    "model.fit(X_train,Y_train)"
   ]
  },
  {
   "cell_type": "code",
   "execution_count": 16,
   "id": "4cf79ae1",
   "metadata": {},
   "outputs": [],
   "source": [
    "Y_preds=model.predict(X_test)"
   ]
  },
  {
   "cell_type": "code",
   "execution_count": 17,
   "id": "c85eda61",
   "metadata": {},
   "outputs": [
    {
     "data": {
      "text/plain": [
       "array([168.64289978,  82.15909989, 115.99280019, 127.70710076,\n",
       "       120.88810166, 154.75629745, 150.82049886, 126.12740062,\n",
       "       117.35619895, 125.9951003 , 116.40360133, 171.93730087,\n",
       "       141.77399859, 167.79489865, 115.25149996, 117.64350038,\n",
       "       139.22490248, 170.12950048, 158.83360295, 160.7456002 ,\n",
       "       155.06669958, 125.22920022, 176.44629983, 157.12880387,\n",
       "       125.17360051,  93.79709963,  77.49970013, 120.72709974,\n",
       "       119.09569918, 167.56350016,  87.87670029, 125.3312001 ,\n",
       "        91.1014009 , 117.7001005 , 121.05679927, 136.54040136,\n",
       "       115.54020088, 115.07120083, 148.24549988, 107.42040085,\n",
       "       104.62350248,  87.27169792, 126.46600071, 117.65970007,\n",
       "       154.10629932, 119.67749993, 108.42499969, 108.0545977 ,\n",
       "        93.17010049, 127.20419727,  74.64660049, 113.75749932,\n",
       "       121.33679994, 111.24509957, 118.84429906, 120.74989966,\n",
       "       158.48940057, 168.25090089, 147.38309707,  85.88279856,\n",
       "        94.36920047,  86.69199926,  90.55749982, 119.00440074,\n",
       "       126.36820047, 127.58280025, 170.65909924, 122.38189964,\n",
       "       117.34359884,  98.41080044, 168.21780022, 143.17259847,\n",
       "       132.14250233, 121.13580183, 120.92949965, 119.71310063,\n",
       "       114.48230173, 118.37420053, 107.20770112, 127.89100082,\n",
       "       113.83890001, 106.75719998, 116.63350088, 119.68569892,\n",
       "        88.78280031,  88.27859906, 146.2906021 , 127.44190035,\n",
       "       113.51750057, 109.94719845, 108.23259893,  77.07829913,\n",
       "       169.3819014 , 114.02899907, 121.54429932, 127.54660167,\n",
       "       154.9610983 ,  91.77679988, 136.7062011 , 159.13990364,\n",
       "       125.48410057, 125.33030076, 130.63440157, 114.888501  ,\n",
       "       119.87429986,  92.12399956, 110.33769882, 168.41369927,\n",
       "       156.20519897, 114.19479947, 106.54940142,  79.52319985,\n",
       "       113.31640062, 125.87520068, 107.06209909, 119.43500104,\n",
       "       156.01420336, 159.76879874, 120.3563998 , 133.31680354,\n",
       "       101.33499994, 117.34329804, 119.34330021, 112.99090073,\n",
       "       102.80319921, 160.23569841,  99.14810028, 147.10879917,\n",
       "       125.40950088, 169.88619966, 125.63859886, 127.33469785,\n",
       "       127.33900136, 113.88179917, 112.5448009 , 123.48669895,\n",
       "       102.14359906,  89.41539953, 124.49169968, 101.88319915,\n",
       "       107.10429902, 113.67720072, 117.04150046,  99.14919949,\n",
       "       121.7918    , 163.3971993 ,  87.39899867, 106.60129988,\n",
       "       117.40120059, 127.78160111, 123.98830069,  80.73789918,\n",
       "       120.18210071, 157.82069858,  87.95499961, 110.25529881,\n",
       "       118.98249915, 172.31619944, 102.98389921, 105.73080031,\n",
       "       122.51210049, 158.19199779,  87.42469857,  93.55870056,\n",
       "       112.63040051, 177.35069948, 114.17910005, 119.34530009,\n",
       "        94.92200125, 126.02850014, 166.44890089, 114.94570049,\n",
       "       116.85940126,  88.35309917, 149.01390138, 120.30509984,\n",
       "        89.46319989, 111.32010022, 116.9630005 , 118.91980129,\n",
       "        88.19189929,  94.26830005, 116.56340038, 118.37740173,\n",
       "       120.42870023, 126.80459806, 121.94629989, 150.30580045,\n",
       "       165.92790056, 118.50859971, 120.43590115, 151.10140042,\n",
       "       118.28469933, 172.72179937, 105.68489933, 104.93720108,\n",
       "       149.20030136, 113.4894006 , 124.84780123, 147.70399948,\n",
       "       119.73270142, 115.38350053, 112.00730027, 113.57530172,\n",
       "       141.62940121, 117.87629762, 102.92690038, 115.84950134,\n",
       "       104.07690187,  98.84480011, 117.53760063,  90.6620002 ,\n",
       "        91.53049995, 153.54469909, 102.77459958, 154.17230065,\n",
       "       114.45950141, 138.579001  ,  89.94539818, 115.46659946,\n",
       "       114.30699939, 123.01750056, 121.9130002 , 165.18990155,\n",
       "        92.89809975, 135.40930133, 121.40119915, 120.87360032,\n",
       "       104.65700028, 141.06430302, 121.83819919, 116.61290035,\n",
       "       113.29610051, 127.04809731, 122.68569974, 125.72809927,\n",
       "       121.23200037,  86.87919863, 132.37360146, 146.39710206,\n",
       "        92.56489963, 159.33169963, 159.09410282, 126.22969935,\n",
       "       165.4641994 , 108.7231    , 109.8336008 , 103.66539838,\n",
       "        94.56440045, 127.83460303, 107.37290057, 161.4061993 ,\n",
       "       121.93829984, 132.20900021, 130.62480167, 160.41279919,\n",
       "        90.04409861, 175.06060188, 127.57130027, 126.64809863,\n",
       "        86.10259917, 124.51919933, 150.03069698,  89.61100027,\n",
       "       106.74139981, 109.08479985,  84.39269891, 135.78079918,\n",
       "       155.0823027 , 140.46980386,  73.44070022, 152.25200105,\n",
       "       125.86639955, 126.76379993, 127.36299879, 108.6226995 ,\n",
       "       155.97010094, 114.34810108, 117.07640124, 125.38219947,\n",
       "       154.08500092, 121.48449973, 156.36319885,  93.01520065,\n",
       "       125.53460095, 125.41839999,  87.90390047,  92.14519924,\n",
       "       125.95009923, 128.02530262, 113.26430062, 117.69839743,\n",
       "       120.97360003, 127.20659734, 119.67700138, 136.26110141,\n",
       "        93.98059966, 119.8448001 , 113.15240116,  94.31429931,\n",
       "       108.91039967,  87.2888993 , 109.0111994 ,  89.77429951,\n",
       "        92.38480065, 131.61650284, 162.30850061,  89.2568001 ,\n",
       "       119.6867007 , 133.2231013 , 123.78719996, 128.22070195,\n",
       "       101.91719845,  89.03959856, 131.69080069, 120.10740041,\n",
       "       108.66129994, 169.06920065, 115.24210037,  86.61239845,\n",
       "       118.7900006 ,  90.93449963, 161.64780034, 116.36960035,\n",
       "       121.7831    , 160.26249779, 120.14839926, 112.92939935,\n",
       "       108.46259867, 126.59889945,  76.1363005 , 103.01249998,\n",
       "       127.4607025 , 121.80539944,  92.62930015, 132.04920116,\n",
       "       118.31230112, 115.83299988, 154.67450255, 160.44860078,\n",
       "       109.94119953, 154.75169782, 119.2911008 , 160.69240083,\n",
       "       118.13919964, 158.37009986, 115.11059915, 116.66560023,\n",
       "       150.56269929, 114.77200096, 126.10969894, 166.72889927,\n",
       "       117.70299986, 125.21279904, 153.45530306, 153.53240275,\n",
       "       132.20080013, 114.64880076, 121.23140184, 124.63150071,\n",
       "        89.8802005 , 123.19059967, 155.19840281, 111.81110052,\n",
       "       106.5240002 , 161.70330083, 118.50019969, 165.87569973,\n",
       "       134.11990087, 115.0329999 , 152.95079878, 168.45019943,\n",
       "       115.10370008, 114.00240114, 159.29299873,  85.24149891,\n",
       "       127.02310009, 127.99840028, 128.99470001, 124.13620059,\n",
       "       123.7324009 ,  90.4603005 , 153.30759978,  97.2196995 ,\n",
       "       137.22149981,  88.98319932, 106.73370008, 115.02890042,\n",
       "       112.52570083, 124.34299939,  91.39909882, 125.46890164,\n",
       "       162.31869917, 119.83339882, 165.01590087, 126.87829799,\n",
       "       112.31060028, 127.49499914,  94.89789913,  90.94719937,\n",
       "       103.76289914, 120.91559984,  83.33989926, 126.09460012,\n",
       "       159.47160498, 117.27490102, 118.25159995, 120.0997997 ,\n",
       "       122.47339941, 120.11600125, 121.56670005, 118.33610039,\n",
       "       107.27810003, 148.50950025, 126.11239873, 115.77370071,\n",
       "        73.93300011, 127.86850111, 154.60910121, 122.81929959,\n",
       "       125.56700037,  88.85229968, 104.02329875, 124.67950049,\n",
       "       120.20989993,  73.37510077, 151.84600003, 121.17510016,\n",
       "       104.76080019,  86.32109769, 114.98559915, 172.29909824,\n",
       "       119.78270041, 159.86549776, 113.17339923, 120.98180001,\n",
       "       118.81210107,  96.00659985, 118.73930055, 125.86049998,\n",
       "       118.44659963,  96.00180067, 153.72180198, 122.1806    ,\n",
       "       147.56169965, 159.45080206, 113.63360029, 122.55709919,\n",
       "       148.46219766, 126.86670004, 165.81370045, 136.46959998,\n",
       "       120.11859977, 167.1543978 , 108.49059897, 121.87629885,\n",
       "       139.4773006 , 106.15529884])"
      ]
     },
     "execution_count": 17,
     "metadata": {},
     "output_type": "execute_result"
    }
   ],
   "source": [
    "Y_preds"
   ]
  },
  {
   "cell_type": "code",
   "execution_count": 18,
   "id": "92bd35bd",
   "metadata": {},
   "outputs": [
    {
     "name": "stdout",
     "output_type": "stream",
     "text": [
      "R2-Score: 0.9894690737687164\n"
     ]
    }
   ],
   "source": [
    "# R squared error\n",
    "Error_score=metrics.r2_score(Y_test,Y_preds)\n",
    "print(\"R2-Score:\",Error_score)"
   ]
  },
  {
   "cell_type": "code",
   "execution_count": 19,
   "id": "426cbf62",
   "metadata": {},
   "outputs": [],
   "source": [
    "Y_test=list(Y_test)"
   ]
  },
  {
   "cell_type": "code",
   "execution_count": 20,
   "id": "91965924",
   "metadata": {},
   "outputs": [
    {
     "data": {
      "image/png": "[encoded data removed]",
      "text/plain": [
       "<Figure size 432x288 with 1 Axes>"
      ]
     },
     "metadata": {
      "needs_background": "light"
     },
     "output_type": "display_data"
    }
   ],
   "source": [
    "plt.plot(Y_test, color='blue', label = 'Actual Value')\n",
    "plt.plot(Y_preds, color='green', label='Predicted Value')\n",
    "plt.title('Actual Price vs Predicted Price')\n",
    "plt.xlabel('Number of values')\n",
    "plt.ylabel('GLD Price')\n",
    "plt.legend()\n",
    "plt.show()"
   ]
  }
 ],
 "metadata": {
  "kernelspec": {
   "display_name": "Python 3 (ipykernel)",
   "language": "python",
   "name": "python3"
  },
  "language_info": {
   "codemirror_mode": {
    "name": "ipython",
    "version": 3
   },
   "file_extension": ".py",
   "mimetype": "text/x-python",
   "name": "python",
   "nbconvert_exporter": "python",
   "pygments_lexer": "ipython3",
   "version": "3.9.4"
  }
 },
 "nbformat": 4,
 "nbformat_minor": 5
}
